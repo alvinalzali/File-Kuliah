{
  "nbformat": 4,
  "nbformat_minor": 0,
  "metadata": {
    "colab": {
      "name": "PC - GLCM.ipynb",
      "provenance": [],
      "authorship_tag": "ABX9TyNLOhcN9e1i9FhZhMKMdBcb",
      "include_colab_link": true
    },
    "kernelspec": {
      "name": "python3",
      "display_name": "Python 3"
    },
    "language_info": {
      "name": "python"
    }
  },
  "cells": [
    {
      "cell_type": "markdown",
      "metadata": {
        "id": "view-in-github",
        "colab_type": "text"
      },
      "source": [
        "<a href=\"https://colab.research.google.com/github/alvinalzali/Praktikum/blob/main/PC_GLCM.ipynb\" target=\"_parent\"><img src=\"https://colab.research.google.com/assets/colab-badge.svg\" alt=\"Open In Colab\"/></a>"
      ]
    },
    {
      "cell_type": "code",
      "execution_count": 17,
      "metadata": {
        "colab": {
          "base_uri": "https://localhost:8080/"
        },
        "id": "O_UvfeFCtZdO",
        "outputId": "0e5dcd28-141f-4e8a-d5a1-e3a6d2abb2ac"
      },
      "outputs": [
        {
          "output_type": "stream",
          "name": "stdout",
          "text": [
            "Requirement already satisfied: opencv-python in /usr/local/lib/python3.7/dist-packages (4.1.2.30)\n",
            "Requirement already satisfied: numpy>=1.14.5 in /usr/local/lib/python3.7/dist-packages (from opencv-python) (1.19.5)\n"
          ]
        }
      ],
      "source": [
        "#menginstal opencv terbaru untuk memastikan\n",
        "!pip install opencv-python"
      ]
    },
    {
      "cell_type": "markdown",
      "source": [
        "#Mencari Gitur GLCM Citra"
      ],
      "metadata": {
        "id": "TkZaVeGBaiVw"
      }
    },
    {
      "cell_type": "markdown",
      "source": [
        "Codingan dibawah adalah code mencari GLCM yang bersumber dari :\n",
        "1. https://yunusmuhammad007.medium.com/feature-extraction-gray-level-co-occurrence-matrix-glcm-10c45b6d46a1\n",
        "\n",
        "Cara kerja code ini adalah dengan meload dataset berupa gambar dari path yang telah ditentukan namanya.\n"
      ],
      "metadata": {
        "id": "kZ4aA5KCbcx2"
      }
    },
    {
      "cell_type": "code",
      "source": [
        "#Copy dataset gambar dari github\n",
        "!git clone -l -s git://github.com/alvinalzali/Praktikum.git "
      ],
      "metadata": {
        "colab": {
          "base_uri": "https://localhost:8080/"
        },
        "id": "lBWETGODUffT",
        "outputId": "2f1196bb-6799-4672-a544-41bd974aeb4b"
      },
      "execution_count": 1,
      "outputs": [
        {
          "output_type": "stream",
          "name": "stdout",
          "text": [
            "Cloning into 'Praktikum'...\n",
            "warning: --local is ignored\n",
            "remote: Enumerating objects: 38, done.\u001b[K\n",
            "remote: Counting objects:   2% (1/38)\u001b[K\rremote: Counting objects:   5% (2/38)\u001b[K\rremote: Counting objects:   7% (3/38)\u001b[K\rremote: Counting objects:  10% (4/38)\u001b[K\rremote: Counting objects:  13% (5/38)\u001b[K\rremote: Counting objects:  15% (6/38)\u001b[K\rremote: Counting objects:  18% (7/38)\u001b[K\rremote: Counting objects:  21% (8/38)\u001b[K\rremote: Counting objects:  23% (9/38)\u001b[K\rremote: Counting objects:  26% (10/38)\u001b[K\rremote: Counting objects:  28% (11/38)\u001b[K\rremote: Counting objects:  31% (12/38)\u001b[K\rremote: Counting objects:  34% (13/38)\u001b[K\rremote: Counting objects:  36% (14/38)\u001b[K\rremote: Counting objects:  39% (15/38)\u001b[K\rremote: Counting objects:  42% (16/38)\u001b[K\rremote: Counting objects:  44% (17/38)\u001b[K\rremote: Counting objects:  47% (18/38)\u001b[K\rremote: Counting objects:  50% (19/38)\u001b[K\rremote: Counting objects:  52% (20/38)\u001b[K\rremote: Counting objects:  55% (21/38)\u001b[K\rremote: Counting objects:  57% (22/38)\u001b[K\rremote: Counting objects:  60% (23/38)\u001b[K\rremote: Counting objects:  63% (24/38)\u001b[K\rremote: Counting objects:  65% (25/38)\u001b[K\rremote: Counting objects:  68% (26/38)\u001b[K\rremote: Counting objects:  71% (27/38)\u001b[K\rremote: Counting objects:  73% (28/38)\u001b[K\rremote: Counting objects:  76% (29/38)\u001b[K\rremote: Counting objects:  78% (30/38)\u001b[K\rremote: Counting objects:  81% (31/38)\u001b[K\rremote: Counting objects:  84% (32/38)\u001b[K\rremote: Counting objects:  86% (33/38)\u001b[K\rremote: Counting objects:  89% (34/38)\u001b[K\rremote: Counting objects:  92% (35/38)\u001b[K\rremote: Counting objects:  94% (36/38)\u001b[K\rremote: Counting objects:  97% (37/38)\u001b[K\rremote: Counting objects: 100% (38/38)\u001b[K\rremote: Counting objects: 100% (38/38), done.\u001b[K\n",
            "remote: Compressing objects:   2% (1/34)\u001b[K\rremote: Compressing objects:   5% (2/34)\u001b[K\rremote: Compressing objects:   8% (3/34)\u001b[K\rremote: Compressing objects:  11% (4/34)\u001b[K\rremote: Compressing objects:  14% (5/34)\u001b[K\rremote: Compressing objects:  17% (6/34)\u001b[K\rremote: Compressing objects:  20% (7/34)\u001b[K\rremote: Compressing objects:  23% (8/34)\u001b[K\rremote: Compressing objects:  26% (9/34)\u001b[K\rremote: Compressing objects:  29% (10/34)\u001b[K\rremote: Compressing objects:  32% (11/34)\u001b[K\rremote: Compressing objects:  35% (12/34)\u001b[K\rremote: Compressing objects:  38% (13/34)\u001b[K\rremote: Compressing objects:  41% (14/34)\u001b[K\rremote: Compressing objects:  44% (15/34)\u001b[K\rremote: Compressing objects:  47% (16/34)\u001b[K\rremote: Compressing objects:  50% (17/34)\u001b[K\rremote: Compressing objects:  52% (18/34)\u001b[K\rremote: Compressing objects:  55% (19/34)\u001b[K\rremote: Compressing objects:  58% (20/34)\u001b[K\rremote: Compressing objects:  61% (21/34)\u001b[K\rremote: Compressing objects:  64% (22/34)\u001b[K\rremote: Compressing objects:  67% (23/34)\u001b[K\rremote: Compressing objects:  70% (24/34)\u001b[K\rremote: Compressing objects:  73% (25/34)\u001b[K\rremote: Compressing objects:  76% (26/34)\u001b[K\rremote: Compressing objects:  79% (27/34)\u001b[K\rremote: Compressing objects:  82% (28/34)\u001b[K\rremote: Compressing objects:  85% (29/34)\u001b[K\rremote: Compressing objects:  88% (30/34)\u001b[K\rremote: Compressing objects:  91% (31/34)\u001b[K\rremote: Compressing objects:  94% (32/34)\u001b[K\rremote: Compressing objects:  97% (33/34)\u001b[K\rremote: Compressing objects: 100% (34/34)\u001b[K\rremote: Compressing objects: 100% (34/34), done.\u001b[K\n",
            "Receiving objects:   2% (1/38)   \rReceiving objects:   5% (2/38)   \rReceiving objects:   7% (3/38)   \rReceiving objects:  10% (4/38)   \rReceiving objects:  13% (5/38)   \rReceiving objects:  15% (6/38)   \rReceiving objects:  18% (7/38)   \rReceiving objects:  21% (8/38)   \rReceiving objects:  23% (9/38)   \rReceiving objects:  26% (10/38)   \rReceiving objects:  28% (11/38)   \rReceiving objects:  31% (12/38)   \rReceiving objects:  34% (13/38)   \rReceiving objects:  36% (14/38)   \rReceiving objects:  39% (15/38)   \rReceiving objects:  42% (16/38)   \rReceiving objects:  44% (17/38)   \rReceiving objects:  47% (18/38)   \rReceiving objects:  50% (19/38)   \rReceiving objects:  52% (20/38)   \rReceiving objects:  55% (21/38)   \rReceiving objects:  57% (22/38)   \rReceiving objects:  60% (23/38)   \rReceiving objects:  63% (24/38)   \rReceiving objects:  65% (25/38)   \rReceiving objects:  68% (26/38)   \rReceiving objects:  71% (27/38)   \rReceiving objects:  73% (28/38)   \rReceiving objects:  76% (29/38)   \rReceiving objects:  78% (30/38)   \rremote: Total 38 (delta 3), reused 0 (delta 0), pack-reused 0\u001b[K\n",
            "Receiving objects:  81% (31/38)   \rReceiving objects:  84% (32/38)   \rReceiving objects:  86% (33/38)   \rReceiving objects:  89% (34/38)   \rReceiving objects:  92% (35/38)   \rReceiving objects:  94% (36/38)   \rReceiving objects:  97% (37/38)   \rReceiving objects: 100% (38/38)   \rReceiving objects: 100% (38/38), 992.07 KiB | 12.56 MiB/s, done.\n",
            "Resolving deltas:   0% (0/3)   \rResolving deltas:  66% (2/3)   \rResolving deltas: 100% (3/3)   \rResolving deltas: 100% (3/3), done.\n"
          ]
        }
      ]
    },
    {
      "cell_type": "markdown",
      "source": [
        "##Membaca dataset gambar"
      ],
      "metadata": {
        "id": "mah42IgXah4E"
      }
    },
    {
      "cell_type": "code",
      "source": [
        "import numpy as np \n",
        "from google.colab.patches import cv2_imshow\n",
        "import os\n",
        "import re\n",
        "\n",
        "# -------------------- Utility function ------------------------\n",
        "def normalize_label(str_):\n",
        "    str_ = str_.replace(\" \", \"\")\n",
        "    str_ = str_.translate(str_.maketrans(\"\",\"\", \"()\"))\n",
        "    str_ = str_.split(\"_\")\n",
        "    return ''.join(str_[:2])\n",
        "\n",
        "def normalize_desc(folder, sub_folder):\n",
        "    text = folder + \" - \" + sub_folder \n",
        "    text = re.sub(r'\\d+', '', text)\n",
        "    text = text.replace(\".\", \"\")\n",
        "    text = text.strip()\n",
        "    return text\n",
        "\n",
        "def print_progress(val, val_len, folder, sub_folder, filename, bar_size=10):\n",
        "    progr = \"#\"*round((val)*bar_size/val_len) + \" \"*round((val_len - (val))*bar_size/val_len)\n",
        "    if val == 0:\n",
        "        print(\"\", end = \"\\n\")\n",
        "    else:\n",
        "        print(\"[%s] folder : %s/%s/ ----> file : %s\" % (progr, folder, sub_folder, filename), end=\"\\r\")\n",
        "        \n",
        "\n",
        "# -------------------- Load Dataset ------------------------\n",
        " \n",
        "dataset_dir = \"/content/Praktikum/Dataset PC\" \n",
        "\n",
        "imgs = [] #list image matrix \n",
        "labels = []\n",
        "descs = []\n",
        "for folder in os.listdir(dataset_dir):\n",
        "    for sub_folder in os.listdir(os.path.join(dataset_dir, folder)):\n",
        "        sub_folder_files = os.listdir(os.path.join(dataset_dir, folder, sub_folder))\n",
        "        len_sub_folder = len(sub_folder_files) - 1\n",
        "        for i, filename in enumerate(sub_folder_files):\n",
        "            img = cv2.imread(os.path.join(dataset_dir, folder, sub_folder, filename))\n",
        "            \n",
        "            gray = cv2.cvtColor(img, cv2.COLOR_BGR2GRAY)\n",
        "            \n",
        "            h, w = gray.shape\n",
        "            ymin, ymax, xmin, xmax = h//3, h*2//3, w//3, w*2//3\n",
        "            crop = gray[ymin:ymax, xmin:xmax]\n",
        "            \n",
        "            resize = cv2.resize(crop, (0,0), fx=0.5, fy=0.5)\n",
        "            \n",
        "            imgs.append(resize)\n",
        "            labels.append(normalize_label(os.path.splitext(filename)[0]))\n",
        "            descs.append(normalize_desc(folder, sub_folder))\n",
        "            \n",
        "            print_progress(i, len_sub_folder, folder, sub_folder, filename)"
      ],
      "metadata": {
        "id": "x9AmTx3rt-98",
        "outputId": "c1bdf65e-c77a-4a11-dcaf-9bb9f72c502f",
        "colab": {
          "base_uri": "https://localhost:8080/"
        }
      },
      "execution_count": 13,
      "outputs": [
        {
          "output_type": "stream",
          "name": "stdout",
          "text": [
            "\n",
            "[##########] folder : 1. Mangga/1.1 Mangga Gedong Gincu/ ----> file : MGG(1).jpg\r\n",
            "[##########] folder : 1. Mangga/1.2 Mangga Arumanis/ ----> file : MA(2).jpg\r\n",
            "[##########] folder : 2. Jeruk/2.1 Jeruk Nipis/ ----> file : JN(2).jpg\r\n",
            "[##########] folder : 2. Jeruk/2.2 Jeruk Calamansi/ ----> file : JC(1).jpg\r"
          ]
        }
      ]
    },
    {
      "cell_type": "markdown",
      "source": [
        "##Menampilkan gambar yang telah dimasukan ke variabel ber-array"
      ],
      "metadata": {
        "id": "WeObyitHcG0i"
      }
    },
    {
      "cell_type": "code",
      "source": [
        "cv2_imshow(imgs[1])\n",
        "\n",
        "cv2.waitKey(0)\n",
        "cv2.destroyAllWindows()"
      ],
      "metadata": {
        "colab": {
          "base_uri": "https://localhost:8080/",
          "height": 84
        },
        "id": "wWNOHINzYGC4",
        "outputId": "e3e06af4-4d4f-412e-94c0-1189d9eb22be"
      },
      "execution_count": 31,
      "outputs": [
        {
          "output_type": "display_data",
          "data": {
            "image/png": "[encoded data removed]",
            "text/plain": [
              "<PIL.Image.Image image mode=L size=72x67 at 0x7F4C8DBF8590>"
            ]
          },
          "metadata": {}
        }
      ]
    },
    {
      "cell_type": "markdown",
      "source": [
        "##Menghitung GLCM dari sudut 0, 45, 90, dan 135 derajat"
      ],
      "metadata": {
        "id": "sbZ9jLbQcOOv"
      }
    },
    {
      "cell_type": "code",
      "source": [
        "from skimage.feature import greycomatrix, greycoprops\n",
        "\n",
        "# ----------------- calculate greycomatrix() & greycoprops() for angle 0, 45, 90, 135 ----------------------------------\n",
        "def calc_glcm_all_agls(img, label, props, dists=[5], agls=[0, np.pi/4, np.pi/2, 3*np.pi/4], lvl=256, sym=True, norm=True):\n",
        "    \n",
        "    glcm = greycomatrix(img, \n",
        "                        distances=dists, \n",
        "                        angles=agls, \n",
        "                        levels=lvl,\n",
        "                        symmetric=sym, \n",
        "                        normed=norm)\n",
        "    feature = []\n",
        "    glcm_props = [propery for name in props for propery in greycoprops(glcm, name)[0]]\n",
        "    for item in glcm_props:\n",
        "            feature.append(item)\n",
        "    feature.append(label) \n",
        "    \n",
        "    return feature\n",
        "\n",
        "\n",
        "# ----------------- call calc_glcm_all_agls() for all properties ----------------------------------\n",
        "properties = ['dissimilarity', 'correlation', 'homogeneity', 'contrast', 'ASM', 'energy']\n",
        "\n",
        "glcm_all_agls = []\n",
        "for img, label in zip(imgs, labels): \n",
        "    glcm_all_agls.append(\n",
        "            calc_glcm_all_agls(img, \n",
        "                                label, \n",
        "                                props=properties)\n",
        "                            )\n",
        " \n",
        "columns = []\n",
        "angles = ['0', '45', '90','135']\n",
        "for name in properties :\n",
        "    for ang in angles:\n",
        "        columns.append(name + \"_\" + ang)\n",
        "        \n",
        "columns.append(\"label\")"
      ],
      "metadata": {
        "id": "qGGQldUXY3AN"
      },
      "execution_count": 24,
      "outputs": []
    },
    {
      "cell_type": "markdown",
      "source": [
        "##Mengekspor hasil ke dalam file csv dan menampilkannya"
      ],
      "metadata": {
        "id": "KxH__0yzcUCd"
      }
    },
    {
      "cell_type": "code",
      "source": [
        "import pandas as pd \n",
        "\n",
        "# Create the pandas DataFrame for GLCM features data\n",
        "glcm_df = pd.DataFrame(glcm_all_agls, \n",
        "                      columns = columns)\n",
        "\n",
        "#save to csv\n",
        "glcm_df.to_csv(\"glcm_coffee_dataset.csv\")\n",
        "\n",
        "glcm_df.head(7)"
      ],
      "metadata": {
        "colab": {
          "base_uri": "https://localhost:8080/",
          "height": 289
        },
        "id": "ntKnY6mMY-Xn",
        "outputId": "96ccef68-ece0-4927-e723-a384cdabf116"
      },
      "execution_count": 28,
      "outputs": [
        {
          "output_type": "execute_result",
          "data": {
            "text/html": [
              "<div>\n",
              "<style scoped>\n",
              "    .dataframe tbody tr th:only-of-type {\n",
              "        vertical-align: middle;\n",
              "    }\n",
              "\n",
              "    .dataframe tbody tr th {\n",
              "        vertical-align: top;\n",
              "    }\n",
              "\n",
              "    .dataframe thead th {\n",
              "        text-align: right;\n",
              "    }\n",
              "</style>\n",
              "<table border=\"1\" class=\"dataframe\">\n",
              "  <thead>\n",
              "    <tr style=\"text-align: right;\">\n",
              "      <th></th>\n",
              "      <th>dissimilarity_0</th>\n",
              "      <th>dissimilarity_45</th>\n",
              "      <th>dissimilarity_90</th>\n",
              "      <th>dissimilarity_135</th>\n",
              "      <th>correlation_0</th>\n",
              "      <th>correlation_45</th>\n",
              "      <th>correlation_90</th>\n",
              "      <th>correlation_135</th>\n",
              "      <th>homogeneity_0</th>\n",
              "      <th>homogeneity_45</th>\n",
              "      <th>homogeneity_90</th>\n",
              "      <th>homogeneity_135</th>\n",
              "      <th>contrast_0</th>\n",
              "      <th>contrast_45</th>\n",
              "      <th>contrast_90</th>\n",
              "      <th>contrast_135</th>\n",
              "      <th>ASM_0</th>\n",
              "      <th>ASM_45</th>\n",
              "      <th>ASM_90</th>\n",
              "      <th>ASM_135</th>\n",
              "      <th>energy_0</th>\n",
              "      <th>energy_45</th>\n",
              "      <th>energy_90</th>\n",
              "      <th>energy_135</th>\n",
              "      <th>label</th>\n",
              "    </tr>\n",
              "  </thead>\n",
              "  <tbody>\n",
              "    <tr>\n",
              "      <th>0</th>\n",
              "      <td>10.675537</td>\n",
              "      <td>10.699707</td>\n",
              "      <td>11.231092</td>\n",
              "      <td>12.942139</td>\n",
              "      <td>0.761434</td>\n",
              "      <td>0.762074</td>\n",
              "      <td>0.799657</td>\n",
              "      <td>0.699648</td>\n",
              "      <td>0.129966</td>\n",
              "      <td>0.123290</td>\n",
              "      <td>0.101369</td>\n",
              "      <td>0.090940</td>\n",
              "      <td>360.207750</td>\n",
              "      <td>312.922852</td>\n",
              "      <td>265.365079</td>\n",
              "      <td>399.478271</td>\n",
              "      <td>0.000642</td>\n",
              "      <td>0.000670</td>\n",
              "      <td>0.000620</td>\n",
              "      <td>0.000598</td>\n",
              "      <td>0.025341</td>\n",
              "      <td>0.025886</td>\n",
              "      <td>0.024895</td>\n",
              "      <td>0.024453</td>\n",
              "      <td>MGG2</td>\n",
              "    </tr>\n",
              "    <tr>\n",
              "      <th>1</th>\n",
              "      <td>8.136333</td>\n",
              "      <td>8.465219</td>\n",
              "      <td>6.208109</td>\n",
              "      <td>7.209384</td>\n",
              "      <td>0.945135</td>\n",
              "      <td>0.943939</td>\n",
              "      <td>0.969751</td>\n",
              "      <td>0.957431</td>\n",
              "      <td>0.125618</td>\n",
              "      <td>0.111915</td>\n",
              "      <td>0.155014</td>\n",
              "      <td>0.136478</td>\n",
              "      <td>114.748051</td>\n",
              "      <td>118.257470</td>\n",
              "      <td>65.268593</td>\n",
              "      <td>89.224790</td>\n",
              "      <td>0.000544</td>\n",
              "      <td>0.000539</td>\n",
              "      <td>0.000624</td>\n",
              "      <td>0.000577</td>\n",
              "      <td>0.023317</td>\n",
              "      <td>0.023212</td>\n",
              "      <td>0.024975</td>\n",
              "      <td>0.024015</td>\n",
              "      <td>MGG1</td>\n",
              "    </tr>\n",
              "    <tr>\n",
              "      <th>2</th>\n",
              "      <td>8.562153</td>\n",
              "      <td>8.542526</td>\n",
              "      <td>8.254905</td>\n",
              "      <td>8.989875</td>\n",
              "      <td>0.892085</td>\n",
              "      <td>0.893699</td>\n",
              "      <td>0.903879</td>\n",
              "      <td>0.877842</td>\n",
              "      <td>0.116787</td>\n",
              "      <td>0.117215</td>\n",
              "      <td>0.123846</td>\n",
              "      <td>0.111910</td>\n",
              "      <td>130.715972</td>\n",
              "      <td>128.363586</td>\n",
              "      <td>123.230243</td>\n",
              "      <td>147.101068</td>\n",
              "      <td>0.000436</td>\n",
              "      <td>0.000448</td>\n",
              "      <td>0.000446</td>\n",
              "      <td>0.000438</td>\n",
              "      <td>0.020891</td>\n",
              "      <td>0.021157</td>\n",
              "      <td>0.021121</td>\n",
              "      <td>0.020939</td>\n",
              "      <td>MA1</td>\n",
              "    </tr>\n",
              "    <tr>\n",
              "      <th>3</th>\n",
              "      <td>4.598162</td>\n",
              "      <td>7.382033</td>\n",
              "      <td>9.578030</td>\n",
              "      <td>9.086207</td>\n",
              "      <td>0.965788</td>\n",
              "      <td>0.889986</td>\n",
              "      <td>0.831190</td>\n",
              "      <td>0.855964</td>\n",
              "      <td>0.203628</td>\n",
              "      <td>0.145352</td>\n",
              "      <td>0.095333</td>\n",
              "      <td>0.100363</td>\n",
              "      <td>35.760234</td>\n",
              "      <td>97.347550</td>\n",
              "      <td>145.458588</td>\n",
              "      <td>127.096189</td>\n",
              "      <td>0.001099</td>\n",
              "      <td>0.000897</td>\n",
              "      <td>0.000780</td>\n",
              "      <td>0.000811</td>\n",
              "      <td>0.033147</td>\n",
              "      <td>0.029958</td>\n",
              "      <td>0.027924</td>\n",
              "      <td>0.028485</td>\n",
              "      <td>MA2</td>\n",
              "    </tr>\n",
              "    <tr>\n",
              "      <th>4</th>\n",
              "      <td>11.295900</td>\n",
              "      <td>16.076847</td>\n",
              "      <td>15.992674</td>\n",
              "      <td>13.313300</td>\n",
              "      <td>0.846872</td>\n",
              "      <td>0.692668</td>\n",
              "      <td>0.685722</td>\n",
              "      <td>0.771398</td>\n",
              "      <td>0.119646</td>\n",
              "      <td>0.073071</td>\n",
              "      <td>0.064109</td>\n",
              "      <td>0.078505</td>\n",
              "      <td>269.613191</td>\n",
              "      <td>475.560591</td>\n",
              "      <td>458.093407</td>\n",
              "      <td>335.459113</td>\n",
              "      <td>0.000893</td>\n",
              "      <td>0.000759</td>\n",
              "      <td>0.000747</td>\n",
              "      <td>0.000840</td>\n",
              "      <td>0.029887</td>\n",
              "      <td>0.027551</td>\n",
              "      <td>0.027327</td>\n",
              "      <td>0.028985</td>\n",
              "      <td>JN1</td>\n",
              "    </tr>\n",
              "    <tr>\n",
              "      <th>5</th>\n",
              "      <td>6.738839</td>\n",
              "      <td>6.354651</td>\n",
              "      <td>6.418440</td>\n",
              "      <td>7.583056</td>\n",
              "      <td>0.781788</td>\n",
              "      <td>0.775252</td>\n",
              "      <td>0.790808</td>\n",
              "      <td>0.724519</td>\n",
              "      <td>0.144415</td>\n",
              "      <td>0.166016</td>\n",
              "      <td>0.155935</td>\n",
              "      <td>0.134750</td>\n",
              "      <td>82.759673</td>\n",
              "      <td>81.246678</td>\n",
              "      <td>81.269504</td>\n",
              "      <td>102.388704</td>\n",
              "      <td>0.001229</td>\n",
              "      <td>0.001413</td>\n",
              "      <td>0.001387</td>\n",
              "      <td>0.001247</td>\n",
              "      <td>0.035061</td>\n",
              "      <td>0.037592</td>\n",
              "      <td>0.037246</td>\n",
              "      <td>0.035311</td>\n",
              "      <td>JN2</td>\n",
              "    </tr>\n",
              "    <tr>\n",
              "      <th>6</th>\n",
              "      <td>17.707912</td>\n",
              "      <td>25.640625</td>\n",
              "      <td>25.285229</td>\n",
              "      <td>21.959559</td>\n",
              "      <td>0.904011</td>\n",
              "      <td>0.802908</td>\n",
              "      <td>0.796040</td>\n",
              "      <td>0.848948</td>\n",
              "      <td>0.069607</td>\n",
              "      <td>0.034150</td>\n",
              "      <td>0.031478</td>\n",
              "      <td>0.045772</td>\n",
              "      <td>539.992424</td>\n",
              "      <td>969.528493</td>\n",
              "      <td>943.582343</td>\n",
              "      <td>738.284926</td>\n",
              "      <td>0.000512</td>\n",
              "      <td>0.000523</td>\n",
              "      <td>0.000488</td>\n",
              "      <td>0.000539</td>\n",
              "      <td>0.022634</td>\n",
              "      <td>0.022867</td>\n",
              "      <td>0.022096</td>\n",
              "      <td>0.023207</td>\n",
              "      <td>JC2</td>\n",
              "    </tr>\n",
              "  </tbody>\n",
              "</table>\n",
              "</div>"
            ],
            "text/plain": [
              "   dissimilarity_0  dissimilarity_45  ...  energy_135  label\n",
              "0        10.675537         10.699707  ...    0.024453   MGG2\n",
              "1         8.136333          8.465219  ...    0.024015   MGG1\n",
              "2         8.562153          8.542526  ...    0.020939    MA1\n",
              "3         4.598162          7.382033  ...    0.028485    MA2\n",
              "4        11.295900         16.076847  ...    0.028985    JN1\n",
              "5         6.738839          6.354651  ...    0.035311    JN2\n",
              "6        17.707912         25.640625  ...    0.023207    JC2\n",
              "\n",
              "[7 rows x 25 columns]"
            ]
          },
          "metadata": {},
          "execution_count": 28
        }
      ]
    }
  ]
}